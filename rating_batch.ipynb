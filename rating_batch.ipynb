{
 "cells": [
  {
   "cell_type": "code",
   "execution_count": 1,
   "id": "15b21253",
   "metadata": {},
   "outputs": [],
   "source": [
    "#import mysql.connector\n",
    "from sqlalchemy import create_engine\n",
    "import pymysql\n",
    "import numpy as np\n",
    "import pandas as pd\n",
    "from surprise import SVD\n",
    "from surprise import Dataset\n",
    "from surprise import accuracy\n",
    "from surprise.model_selection import train_test_split\n",
    "from surprise import Dataset\n",
    "from surprise import Reader"
   ]
  },
  {
   "cell_type": "code",
   "execution_count": 2,
   "id": "471a64cb",
   "metadata": {},
   "outputs": [],
   "source": [
    "# credenciales\n",
    "DB_USER='root'\n",
    "DB_PASSWORD='chilote64'\n",
    "DB_NAME=r='recommend'  # test schema with toy data"
   ]
  },
  {
   "cell_type": "code",
   "execution_count": 3,
   "id": "d0cfe9b8",
   "metadata": {},
   "outputs": [],
   "source": [
    "# IMPLEMENT DATABASE URL\n",
    "SQLALCHEMY_DATABASE_URI ='mysql+pymysql://{}:{}@localhost:3306/{}'.format(DB_USER,DB_PASSWORD,DB_NAME)"
   ]
  },
  {
   "cell_type": "code",
   "execution_count": 4,
   "id": "693b90b1",
   "metadata": {},
   "outputs": [],
   "source": [
    "# conneccion\n",
    "cnx = create_engine(SQLALCHEMY_DATABASE_URI)"
   ]
  },
  {
   "cell_type": "code",
   "execution_count": 5,
   "id": "26f80456",
   "metadata": {},
   "outputs": [],
   "source": [
    "qry=\"select\t* from ratings\"\n",
    "df_input=pd.DataFrame(cnx.execute(qry).fetchall())\n",
    "df_input.columns=['item_id','user_id','rating']"
   ]
  },
  {
   "cell_type": "code",
   "execution_count": 6,
   "id": "c45e0dc0",
   "metadata": {},
   "outputs": [
    {
     "data": {
      "text/html": [
       "<div>\n",
       "<style scoped>\n",
       "    .dataframe tbody tr th:only-of-type {\n",
       "        vertical-align: middle;\n",
       "    }\n",
       "\n",
       "    .dataframe tbody tr th {\n",
       "        vertical-align: top;\n",
       "    }\n",
       "\n",
       "    .dataframe thead th {\n",
       "        text-align: right;\n",
       "    }\n",
       "</style>\n",
       "<table border=\"1\" class=\"dataframe\">\n",
       "  <thead>\n",
       "    <tr style=\"text-align: right;\">\n",
       "      <th></th>\n",
       "      <th>user_id</th>\n",
       "      <th>item_id</th>\n",
       "      <th>rating</th>\n",
       "    </tr>\n",
       "  </thead>\n",
       "  <tbody>\n",
       "    <tr>\n",
       "      <th>0</th>\n",
       "      <td>314</td>\n",
       "      <td>1</td>\n",
       "      <td>5</td>\n",
       "    </tr>\n",
       "    <tr>\n",
       "      <th>1</th>\n",
       "      <td>439</td>\n",
       "      <td>1</td>\n",
       "      <td>3</td>\n",
       "    </tr>\n",
       "    <tr>\n",
       "      <th>2</th>\n",
       "      <td>588</td>\n",
       "      <td>1</td>\n",
       "      <td>5</td>\n",
       "    </tr>\n",
       "    <tr>\n",
       "      <th>3</th>\n",
       "      <td>1169</td>\n",
       "      <td>1</td>\n",
       "      <td>4</td>\n",
       "    </tr>\n",
       "    <tr>\n",
       "      <th>4</th>\n",
       "      <td>1185</td>\n",
       "      <td>1</td>\n",
       "      <td>4</td>\n",
       "    </tr>\n",
       "  </tbody>\n",
       "</table>\n",
       "</div>"
      ],
      "text/plain": [
       "   user_id item_id  rating\n",
       "0      314       1       5\n",
       "1      439       1       3\n",
       "2      588       1       5\n",
       "3     1169       1       4\n",
       "4     1185       1       4"
      ]
     },
     "execution_count": 6,
     "metadata": {},
     "output_type": "execute_result"
    }
   ],
   "source": [
    "# Preparing the data\n",
    "df_input=df_input[['user_id','item_id','rating']]\n",
    "df_input.head()"
   ]
  },
  {
   "cell_type": "code",
   "execution_count": 7,
   "id": "d1fc10c8",
   "metadata": {},
   "outputs": [],
   "source": [
    "# With reader class \n",
    "reader = Reader(rating_scale=(1, 5))\n",
    "data = Dataset.load_from_df(df_input[['user_id', 'item_id', 'rating']], reader)"
   ]
  },
  {
   "cell_type": "code",
   "execution_count": 8,
   "id": "87e5a30c",
   "metadata": {},
   "outputs": [],
   "source": [
    "#trainset = data.build_full_trainset()\n",
    "testsize=0.25\n",
    "trainset, testset = train_test_split(data, test_size=testsize)"
   ]
  },
  {
   "cell_type": "code",
   "execution_count": null,
   "id": "3eb59590",
   "metadata": {},
   "outputs": [],
   "source": [
    "# define the model algorithm\n",
    "algo = SVD()\n",
    "\n",
    "# fit the model with the trainset\n",
    "algo.fit(trainset)\n"
   ]
  },
  {
   "cell_type": "code",
   "execution_count": null,
   "id": "a9be86e2",
   "metadata": {},
   "outputs": [],
   "source": [
    "# test an accuracy\n",
    "predictions = algo.test(testset)\n",
    "\n",
    "# Then compute RMSE\n",
    "accuracy.rmse(predictions)"
   ]
  },
  {
   "cell_type": "code",
   "execution_count": null,
   "id": "e5d41bd9",
   "metadata": {},
   "outputs": [],
   "source": [
    "\n"
   ]
  },
  {
   "cell_type": "code",
   "execution_count": null,
   "id": "8a0c4a25",
   "metadata": {},
   "outputs": [],
   "source": [
    "type(trainset._raw2inner_id_users)\n",
    "users_dict=trainset._raw2inner_id_users\n",
    "items_dict=trainset._raw2inner_id_items\n"
   ]
  },
  {
   "cell_type": "code",
   "execution_count": null,
   "id": "56b94f68",
   "metadata": {},
   "outputs": [],
   "source": [
    "users_dict"
   ]
  },
  {
   "cell_type": "code",
   "execution_count": null,
   "id": "a61a2f08",
   "metadata": {},
   "outputs": [],
   "source": [
    "items_dict"
   ]
  },
  {
   "cell_type": "code",
   "execution_count": null,
   "id": "23ba1ca7",
   "metadata": {},
   "outputs": [],
   "source": [
    "# factores latentes items\n",
    "algo.qi"
   ]
  },
  {
   "cell_type": "code",
   "execution_count": null,
   "id": "46ba61ad",
   "metadata": {},
   "outputs": [],
   "source": [
    "# dimesion matriz factores latentes items\n",
    "algo.qi.shape"
   ]
  },
  {
   "cell_type": "code",
   "execution_count": null,
   "id": "7512f475",
   "metadata": {},
   "outputs": [],
   "source": [
    "#factores latantes usuarios\n",
    "algo.bu"
   ]
  },
  {
   "cell_type": "code",
   "execution_count": null,
   "id": "6700bec7",
   "metadata": {},
   "outputs": [],
   "source": [
    "# dimension matriz factores latentes usuarios\n",
    "algo.pu.shape"
   ]
  },
  {
   "cell_type": "code",
   "execution_count": 43,
   "id": "9e98f8ca",
   "metadata": {},
   "outputs": [],
   "source": [
    "mat_ratings=np.dot(algo.qi,algo.pu.transpose())"
   ]
  },
  {
   "cell_type": "code",
   "execution_count": 44,
   "id": "7d7d6912",
   "metadata": {},
   "outputs": [
    {
     "data": {
      "text/plain": [
       "(10000, 52784)"
      ]
     },
     "execution_count": 44,
     "metadata": {},
     "output_type": "execute_result"
    }
   ],
   "source": [
    "mat_ratings.shape"
   ]
  },
  {
   "cell_type": "code",
   "execution_count": 45,
   "id": "de25b281",
   "metadata": {},
   "outputs": [
    {
     "data": {
      "text/plain": [
       "array([[-0.40448905,  0.16515022,  0.11612089, ...,  0.08687572,\n",
       "         0.06522121,  0.02682064],\n",
       "       [ 0.03573149,  0.14018379,  0.17816094, ..., -0.02949169,\n",
       "        -0.13076227, -0.05313281],\n",
       "       [ 0.21315938,  0.15760086,  0.2070977 , ...,  0.09335565,\n",
       "         0.02098122, -0.16428722],\n",
       "       ...,\n",
       "       [ 0.04762445,  0.04428889, -0.13049886, ...,  0.25837583,\n",
       "        -0.09803221, -0.03160385],\n",
       "       [ 0.0445562 , -0.19657911, -0.06180419, ..., -0.06569155,\n",
       "        -0.20429557, -0.04875695],\n",
       "       [-0.04131805, -0.0135689 , -0.05167643, ..., -0.0792198 ,\n",
       "        -0.16611066,  0.04686996]])"
      ]
     },
     "execution_count": 45,
     "metadata": {},
     "output_type": "execute_result"
    }
   ],
   "source": [
    "mat_ratings"
   ]
  },
  {
   "cell_type": "code",
   "execution_count": null,
   "id": "fb57dd27",
   "metadata": {},
   "outputs": [],
   "source": [
    "# suma constante asociada a mediana global\n",
    "mat_ratings=mat_ratings+algo.trainset.global_mean"
   ]
  },
  {
   "cell_type": "code",
   "execution_count": null,
   "id": "234cf8a2",
   "metadata": {},
   "outputs": [],
   "source": [
    "mat_ratings"
   ]
  },
  {
   "cell_type": "code",
   "execution_count": null,
   "id": "82918346",
   "metadata": {},
   "outputs": [],
   "source": []
  }
 ],
 "metadata": {
  "kernelspec": {
   "display_name": "Python 3",
   "language": "python",
   "name": "python3"
  },
  "language_info": {
   "codemirror_mode": {
    "name": "ipython",
    "version": 3
   },
   "file_extension": ".py",
   "mimetype": "text/x-python",
   "name": "python",
   "nbconvert_exporter": "python",
   "pygments_lexer": "ipython3",
   "version": "3.8.5"
  }
 },
 "nbformat": 4,
 "nbformat_minor": 5
}
