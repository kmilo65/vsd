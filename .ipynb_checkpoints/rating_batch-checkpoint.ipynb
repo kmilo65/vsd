{
 "cells": [
  {
   "cell_type": "code",
   "execution_count": 5,
   "id": "7c86dab8",
   "metadata": {},
   "outputs": [],
   "source": [
    "#import mysql.connector\n",
    "from sqlalchemy import create_engine\n",
    "import pymysql\n",
    "import numpy as np\n",
    "import pandas as pd\n",
    "from surprise import SVD\n",
    "from surprise import Dataset\n",
    "from surprise import accuracy\n",
    "from surprise.model_selection import train_test_split\n",
    "from surprise import Dataset\n",
    "from surprise import Reader"
   ]
  },
  {
   "cell_type": "code",
   "execution_count": null,
   "id": "0b3cfb79",
   "metadata": {},
   "outputs": [],
   "source": [
    "# credenciales\n",
    "DB_USER='root'\n",
    "DB_PASSWORD='chilote64'\n",
    "DB_NAME=r='ratings'"
   ]
  },
  {
   "cell_type": "code",
   "execution_count": 3,
   "id": "6575c7b6",
   "metadata": {},
   "outputs": [],
   "source": [
    "# IMPLEMENT DATABASE URL\n",
    "SQLALCHEMY_DATABASE_URI ='mysql+pymysql://{}:{}@localhost:3306/{}'.format(DB_USER,DB_PASSWORD,DB_NAME)"
   ]
  },
  {
   "cell_type": "code",
   "execution_count": 4,
   "id": "488baa36",
   "metadata": {},
   "outputs": [],
   "source": [
    "# conneccion\n",
    "cnx = create_engine(SQLALCHEMY_DATABASE_URI)"
   ]
  },
  {
   "cell_type": "code",
   "execution_count": null,
   "id": "93c713b2",
   "metadata": {},
   "outputs": [],
   "source": []
  },
  {
   "cell_type": "code",
   "execution_count": null,
   "id": "b8dcabce",
   "metadata": {},
   "outputs": [],
   "source": []
  }
 ],
 "metadata": {
  "kernelspec": {
   "display_name": "Python 3",
   "language": "python",
   "name": "python3"
  },
  "language_info": {
   "codemirror_mode": {
    "name": "ipython",
    "version": 3
   },
   "file_extension": ".py",
   "mimetype": "text/x-python",
   "name": "python",
   "nbconvert_exporter": "python",
   "pygments_lexer": "ipython3",
   "version": "3.8.5"
  }
 },
 "nbformat": 4,
 "nbformat_minor": 5
}
