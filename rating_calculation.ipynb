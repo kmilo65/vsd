{
 "cells": [
  {
   "cell_type": "code",
   "execution_count": 1,
   "id": "e007f8b9",
   "metadata": {},
   "outputs": [],
   "source": [
    "#import mysql.connector\n",
    "from sqlalchemy import create_engine\n",
    "import pymysql\n",
    "import numpy as np\n",
    "import pandas as pd\n",
    "from surprise import SVD\n",
    "from surprise import Dataset\n",
    "from surprise import accuracy\n",
    "from surprise.model_selection import train_test_split\n",
    "from surprise import Dataset\n",
    "from surprise import Reader"
   ]
  },
  {
   "cell_type": "code",
   "execution_count": 2,
   "id": "cf9ab855",
   "metadata": {},
   "outputs": [],
   "source": [
    "# credenciales\n",
    "DB_USER='root'\n",
    "DB_PASSWORD='123456'\n",
    "DB_NAME=r='ratings'  # test schema with toy data"
   ]
  },
  {
   "cell_type": "code",
   "execution_count": 3,
   "id": "10782b0c",
   "metadata": {},
   "outputs": [],
   "source": [
    "# IMPLEMENT DATABASE URL\n",
    "SQLALCHEMY_DATABASE_URI ='mysql+pymysql://{}:{}@localhost:3306/{}'.format(DB_USER,DB_PASSWORD,DB_NAME)"
   ]
  },
  {
   "cell_type": "code",
   "execution_count": 4,
   "id": "ea700ec9",
   "metadata": {},
   "outputs": [],
   "source": [
    "# conneccion\n",
    "cnx = create_engine(SQLALCHEMY_DATABASE_URI)"
   ]
  },
  {
   "cell_type": "code",
   "execution_count": 5,
   "id": "dd492098",
   "metadata": {},
   "outputs": [],
   "source": [
    "qry=\"select\t* from ratings\"\n",
    "df_input=pd.DataFrame(cnx.execute(qry).fetchall())\n",
    "df_input.columns=['item_id','user_id','rating']"
   ]
  },
  {
   "cell_type": "code",
   "execution_count": 6,
   "id": "3367486f",
   "metadata": {},
   "outputs": [
    {
     "data": {
      "text/html": [
       "<div>\n",
       "<style scoped>\n",
       "    .dataframe tbody tr th:only-of-type {\n",
       "        vertical-align: middle;\n",
       "    }\n",
       "\n",
       "    .dataframe tbody tr th {\n",
       "        vertical-align: top;\n",
       "    }\n",
       "\n",
       "    .dataframe thead th {\n",
       "        text-align: right;\n",
       "    }\n",
       "</style>\n",
       "<table border=\"1\" class=\"dataframe\">\n",
       "  <thead>\n",
       "    <tr style=\"text-align: right;\">\n",
       "      <th></th>\n",
       "      <th>user_id</th>\n",
       "      <th>item_id</th>\n",
       "      <th>rating</th>\n",
       "    </tr>\n",
       "  </thead>\n",
       "  <tbody>\n",
       "    <tr>\n",
       "      <th>0</th>\n",
       "      <td>314</td>\n",
       "      <td>1</td>\n",
       "      <td>5</td>\n",
       "    </tr>\n",
       "    <tr>\n",
       "      <th>1</th>\n",
       "      <td>439</td>\n",
       "      <td>1</td>\n",
       "      <td>3</td>\n",
       "    </tr>\n",
       "    <tr>\n",
       "      <th>2</th>\n",
       "      <td>588</td>\n",
       "      <td>1</td>\n",
       "      <td>5</td>\n",
       "    </tr>\n",
       "    <tr>\n",
       "      <th>3</th>\n",
       "      <td>1169</td>\n",
       "      <td>1</td>\n",
       "      <td>4</td>\n",
       "    </tr>\n",
       "    <tr>\n",
       "      <th>4</th>\n",
       "      <td>1185</td>\n",
       "      <td>1</td>\n",
       "      <td>4</td>\n",
       "    </tr>\n",
       "  </tbody>\n",
       "</table>\n",
       "</div>"
      ],
      "text/plain": [
       "   user_id item_id  rating\n",
       "0      314       1       5\n",
       "1      439       1       3\n",
       "2      588       1       5\n",
       "3     1169       1       4\n",
       "4     1185       1       4"
      ]
     },
     "execution_count": 6,
     "metadata": {},
     "output_type": "execute_result"
    }
   ],
   "source": [
    "# Preparing the data\n",
    "df_input=df_input[['user_id','item_id','rating']]\n",
    "df_input.head()"
   ]
  },
  {
   "cell_type": "code",
   "execution_count": 7,
   "id": "65fed735",
   "metadata": {},
   "outputs": [],
   "source": [
    "# With reader class \n",
    "reader = Reader(rating_scale=(1, 5))\n",
    "data = Dataset.load_from_df(df_input[['user_id', 'item_id', 'rating']], reader)"
   ]
  },
  {
   "cell_type": "code",
   "execution_count": 8,
   "id": "ac4daea3",
   "metadata": {},
   "outputs": [],
   "source": [
    "#trainset = data.build_full_trainset()\n",
    "testsize=0.25\n",
    "trainset, testset = train_test_split(data, test_size=testsize)"
   ]
  },
  {
   "cell_type": "code",
   "execution_count": 9,
   "id": "20a0781e",
   "metadata": {},
   "outputs": [
    {
     "data": {
      "text/plain": [
       "<surprise.prediction_algorithms.matrix_factorization.SVD at 0x1ebc13ced30>"
      ]
     },
     "execution_count": 9,
     "metadata": {},
     "output_type": "execute_result"
    }
   ],
   "source": [
    "# define the model algorithm\n",
    "algo = SVD()\n",
    "\n",
    "# fit the model with the trainset\n",
    "algo.fit(trainset)\n"
   ]
  },
  {
   "cell_type": "code",
   "execution_count": 10,
   "id": "fd2a163e",
   "metadata": {},
   "outputs": [
    {
     "name": "stdout",
     "output_type": "stream",
     "text": [
      "RMSE: 0.8435\n"
     ]
    },
    {
     "data": {
      "text/plain": [
       "0.8434922388972571"
      ]
     },
     "execution_count": 10,
     "metadata": {},
     "output_type": "execute_result"
    }
   ],
   "source": [
    "# test an accuracy\n",
    "predictions = algo.test(testset)\n",
    "\n",
    "# Then compute RMSE\n",
    "accuracy.rmse(predictions)"
   ]
  },
  {
   "cell_type": "code",
   "execution_count": null,
   "id": "aaada70e",
   "metadata": {},
   "outputs": [],
   "source": []
  },
  {
   "cell_type": "code",
   "execution_count": null,
   "id": "6ed3038c",
   "metadata": {},
   "outputs": [],
   "source": []
  },
  {
   "cell_type": "code",
   "execution_count": 11,
   "id": "7dcea50b",
   "metadata": {},
   "outputs": [],
   "source": [
    "def get_rating_matrix():\n",
    "    # dot product between users and itmes latents matrix\n",
    "    mat_ratings=np.dot(algo.qi,algo.pu.transpose())\n",
    "    shp_items=mat_ratings.shape[0]\n",
    "    shp_users=mat_ratings.shape[1]\n",
    "    # adding global mean\n",
    "    mat_ratings=mat_ratings+algo.trainset.global_mean\n",
    "    # items bias\n",
    "    mat_bi=np.resize(np.repeat(algo.bi,shp_users),[shp_items,shp_users])\n",
    "    # users bias\n",
    "    mat_bu=np.resize(algo.bu,[1,shp_users])\n",
    "    mat_bu=np.tile(mat_bu,(shp_items,1))\n",
    "    # calculate rating matrix\n",
    "    mat_ratings=mat_ratings+mat_bu+mat_bi\n",
    "    return mat_ratings\n",
    "    "
   ]
  },
  {
   "cell_type": "code",
   "execution_count": 12,
   "id": "ae050160",
   "metadata": {},
   "outputs": [],
   "source": [
    "# swaping dictionary\n",
    "def get_swap_dict(d):\n",
    "    return {v: k for k, v in d.items()}"
   ]
  },
  {
   "cell_type": "code",
   "execution_count": 13,
   "id": "a143ac5c",
   "metadata": {},
   "outputs": [],
   "source": [
    "def get_list_users_items_rating(mat_ratings,items_dict,users_dict,item,limit):\n",
    "    # number of users\n",
    "    shp_users=len(users_dict)\n",
    "    # array of ratings\n",
    "    array_rating=np.array([mat_ratings[item].tolist()]).transpose()\n",
    "    # antecedent\n",
    "    list_ant=[get_swap_dict(items_dict)[item]]*shp_users\n",
    "    antecedent=np.array([list_ant]).transpose()\n",
    "    # users \n",
    "    users_column=np.array([list(users_dict.keys())]).transpose()\n",
    "    matrix=np.concatenate([antecedent,users_column,array_rating], axis=1) \n",
    "    lista=[[a[0],a[1],np.round(a[2].astype(float),decimals=2)] for a in matrix if np.round(a[2].astype(float),decimals=2)>=limit]\n",
    "    return lista"
   ]
  },
  {
   "cell_type": "code",
   "execution_count": 14,
   "id": "d0404694",
   "metadata": {},
   "outputs": [],
   "source": [
    "# get dataframe\n",
    "def get_df(lista):\n",
    "    df=pd.DataFrame(lista,columns=['item_id','user_id','rating'])\n",
    "    return df   "
   ]
  },
  {
   "cell_type": "code",
   "execution_count": null,
   "id": "6ca371ce",
   "metadata": {},
   "outputs": [],
   "source": []
  },
  {
   "cell_type": "code",
   "execution_count": 15,
   "id": "ec627674",
   "metadata": {},
   "outputs": [],
   "source": [
    "mat_ratings=get_rating_matrix()\n",
    "# internal and raw ids for users and itmes\n",
    "users_dict=trainset._raw2inner_id_users\n",
    "items_dict=trainset._raw2inner_id_items\n",
    "limit=3"
   ]
  },
  {
   "cell_type": "code",
   "execution_count": 16,
   "id": "e1ca4392",
   "metadata": {},
   "outputs": [],
   "source": [
    "for item in range(len(items_dict)):\n",
    "    lista=get_list_users_items_rating(mat_ratings,items_dict,users_dict,item,limit)\n",
    "    df=get_df(lista)\n",
    "    df.to_sql('rp_users_items_ratings', cnx, if_exists='append', chunksize=3000, index=False)"
   ]
  },
  {
   "cell_type": "code",
   "execution_count": 66,
   "id": "bee9ae52",
   "metadata": {},
   "outputs": [
    {
     "data": {
      "text/plain": [
       "10000"
      ]
     },
     "execution_count": 66,
     "metadata": {},
     "output_type": "execute_result"
    }
   ],
   "source": [
    "len(items_dict)"
   ]
  },
  {
   "cell_type": "code",
   "execution_count": null,
   "id": "670815cf",
   "metadata": {},
   "outputs": [],
   "source": []
  }
 ],
 "metadata": {
  "kernelspec": {
   "display_name": "Python 3 (ipykernel)",
   "language": "python",
   "name": "python3"
  },
  "language_info": {
   "codemirror_mode": {
    "name": "ipython",
    "version": 3
   },
   "file_extension": ".py",
   "mimetype": "text/x-python",
   "name": "python",
   "nbconvert_exporter": "python",
   "pygments_lexer": "ipython3",
   "version": "3.9.7"
  }
 },
 "nbformat": 4,
 "nbformat_minor": 5
}
