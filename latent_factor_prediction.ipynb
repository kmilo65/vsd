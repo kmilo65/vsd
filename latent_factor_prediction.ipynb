{
 "cells": [
  {
   "cell_type": "code",
   "execution_count": 1,
   "id": "a8f94aab",
   "metadata": {},
   "outputs": [],
   "source": [
    "# https://stackoverflow.com/questions/61339532/get-predictions-for-all-users-with-surprise-svdpp-algorithm\n",
    "from surprise import SVD\n",
    "import pandas as pd\n",
    "import numpy as np\n",
    "from surprise import Dataset\n",
    "from surprise import accuracy\n",
    "from surprise.model_selection import train_test_split\n",
    "from surprise import Dataset\n",
    "from surprise import Reader"
   ]
  },
  {
   "cell_type": "code",
   "execution_count": 2,
   "id": "567e0233",
   "metadata": {},
   "outputs": [
    {
     "data": {
      "text/html": [
       "<div>\n",
       "<style scoped>\n",
       "    .dataframe tbody tr th:only-of-type {\n",
       "        vertical-align: middle;\n",
       "    }\n",
       "\n",
       "    .dataframe tbody tr th {\n",
       "        vertical-align: top;\n",
       "    }\n",
       "\n",
       "    .dataframe thead th {\n",
       "        text-align: right;\n",
       "    }\n",
       "</style>\n",
       "<table border=\"1\" class=\"dataframe\">\n",
       "  <thead>\n",
       "    <tr style=\"text-align: right;\">\n",
       "      <th></th>\n",
       "      <th>book_id</th>\n",
       "      <th>user_id</th>\n",
       "      <th>rating</th>\n",
       "    </tr>\n",
       "  </thead>\n",
       "  <tbody>\n",
       "    <tr>\n",
       "      <th>0</th>\n",
       "      <td>1</td>\n",
       "      <td>314</td>\n",
       "      <td>5</td>\n",
       "    </tr>\n",
       "    <tr>\n",
       "      <th>1</th>\n",
       "      <td>1</td>\n",
       "      <td>439</td>\n",
       "      <td>3</td>\n",
       "    </tr>\n",
       "    <tr>\n",
       "      <th>2</th>\n",
       "      <td>1</td>\n",
       "      <td>588</td>\n",
       "      <td>5</td>\n",
       "    </tr>\n",
       "    <tr>\n",
       "      <th>3</th>\n",
       "      <td>1</td>\n",
       "      <td>1169</td>\n",
       "      <td>4</td>\n",
       "    </tr>\n",
       "    <tr>\n",
       "      <th>4</th>\n",
       "      <td>1</td>\n",
       "      <td>1185</td>\n",
       "      <td>4</td>\n",
       "    </tr>\n",
       "    <tr>\n",
       "      <th>5</th>\n",
       "      <td>1</td>\n",
       "      <td>2077</td>\n",
       "      <td>4</td>\n",
       "    </tr>\n",
       "    <tr>\n",
       "      <th>6</th>\n",
       "      <td>1</td>\n",
       "      <td>2487</td>\n",
       "      <td>4</td>\n",
       "    </tr>\n",
       "    <tr>\n",
       "      <th>7</th>\n",
       "      <td>1</td>\n",
       "      <td>2900</td>\n",
       "      <td>5</td>\n",
       "    </tr>\n",
       "    <tr>\n",
       "      <th>8</th>\n",
       "      <td>1</td>\n",
       "      <td>3662</td>\n",
       "      <td>4</td>\n",
       "    </tr>\n",
       "    <tr>\n",
       "      <th>9</th>\n",
       "      <td>1</td>\n",
       "      <td>3922</td>\n",
       "      <td>5</td>\n",
       "    </tr>\n",
       "  </tbody>\n",
       "</table>\n",
       "</div>"
      ],
      "text/plain": [
       "   book_id  user_id  rating\n",
       "0        1      314       5\n",
       "1        1      439       3\n",
       "2        1      588       5\n",
       "3        1     1169       4\n",
       "4        1     1185       4\n",
       "5        1     2077       4\n",
       "6        1     2487       4\n",
       "7        1     2900       5\n",
       "8        1     3662       4\n",
       "9        1     3922       5"
      ]
     },
     "execution_count": 2,
     "metadata": {},
     "output_type": "execute_result"
    }
   ],
   "source": [
    "ratings_data = pd.read_csv('./data/ratings.csv.zip')\n",
    "books_metadata = pd.read_csv('./data/books.csv.zip')\n",
    "ratings_data.head(10)"
   ]
  },
  {
   "cell_type": "code",
   "execution_count": 3,
   "id": "96166a2f",
   "metadata": {},
   "outputs": [],
   "source": [
    "reader = Reader(rating_scale=(1, 5))\n",
    "data = Dataset.load_from_df(ratings_data[['user_id', 'book_id', 'rating']], reader)"
   ]
  },
  {
   "cell_type": "code",
   "execution_count": 4,
   "id": "bc560e10",
   "metadata": {},
   "outputs": [],
   "source": [
    "#trainset = data.build_full_trainset()\n",
    "trainset, testset = train_test_split(data, test_size=0.25)"
   ]
  },
  {
   "cell_type": "code",
   "execution_count": 5,
   "id": "ace4974d",
   "metadata": {},
   "outputs": [
    {
     "data": {
      "text/plain": [
       "Prediction(uid=196, iid=302, r_ui=None, est=3.824637643686562, details={'was_impossible': False})"
      ]
     },
     "execution_count": 5,
     "metadata": {},
     "output_type": "execute_result"
    }
   ],
   "source": [
    "algo = SVD()\n",
    "algo.fit(trainset)\n",
    "\n",
    "algo.predict(196, 302)"
   ]
  },
  {
   "cell_type": "code",
   "execution_count": 6,
   "id": "3e60cf32",
   "metadata": {},
   "outputs": [
    {
     "name": "stdout",
     "output_type": "stream",
     "text": [
      "RMSE: 0.8457\n"
     ]
    },
    {
     "data": {
      "text/plain": [
       "0.8456594513660288"
      ]
     },
     "execution_count": 6,
     "metadata": {},
     "output_type": "execute_result"
    }
   ],
   "source": [
    "predictions = algo.test(testset)\n",
    "\n",
    "# Then compute RMSE\n",
    "accuracy.rmse(predictions)"
   ]
  },
  {
   "cell_type": "code",
   "execution_count": null,
   "id": "8ab0c929",
   "metadata": {},
   "outputs": [],
   "source": []
  },
  {
   "cell_type": "code",
   "execution_count": 7,
   "id": "8cd3d1f3",
   "metadata": {},
   "outputs": [],
   "source": [
    "type(trainset._raw2inner_id_users)\n",
    "users_dict=trainset._raw2inner_id_users"
   ]
  },
  {
   "cell_type": "code",
   "execution_count": 8,
   "id": "42f3bedd",
   "metadata": {},
   "outputs": [
    {
     "data": {
      "text/plain": [
       "50770"
      ]
     },
     "execution_count": 8,
     "metadata": {},
     "output_type": "execute_result"
    }
   ],
   "source": [
    "users_dict[196]"
   ]
  },
  {
   "cell_type": "code",
   "execution_count": 9,
   "id": "e51dc9b7",
   "metadata": {},
   "outputs": [
    {
     "data": {
      "text/plain": [
       "48914"
      ]
     },
     "execution_count": 9,
     "metadata": {},
     "output_type": "execute_result"
    }
   ],
   "source": [
    "trainset.to_raw_uid(44438)"
   ]
  },
  {
   "cell_type": "code",
   "execution_count": 10,
   "id": "b5fa5115",
   "metadata": {},
   "outputs": [
    {
     "data": {
      "text/plain": [
       "50770"
      ]
     },
     "execution_count": 10,
     "metadata": {},
     "output_type": "execute_result"
    }
   ],
   "source": [
    "trainset.to_inner_uid(196)"
   ]
  },
  {
   "cell_type": "code",
   "execution_count": 11,
   "id": "0ba50d75",
   "metadata": {},
   "outputs": [
    {
     "data": {
      "text/plain": [
       "9320"
      ]
     },
     "execution_count": 11,
     "metadata": {},
     "output_type": "execute_result"
    }
   ],
   "source": [
    "trainset.to_inner_iid(302)"
   ]
  },
  {
   "cell_type": "code",
   "execution_count": 12,
   "id": "03101cdb",
   "metadata": {},
   "outputs": [
    {
     "data": {
      "text/plain": [
       "4726"
      ]
     },
     "execution_count": 12,
     "metadata": {},
     "output_type": "execute_result"
    }
   ],
   "source": [
    "trainset.to_raw_iid(6996)"
   ]
  },
  {
   "cell_type": "code",
   "execution_count": 13,
   "id": "6253b778",
   "metadata": {},
   "outputs": [
    {
     "data": {
      "text/plain": [
       "9320"
      ]
     },
     "execution_count": 13,
     "metadata": {},
     "output_type": "execute_result"
    }
   ],
   "source": [
    "trainset.to_inner_iid(302)"
   ]
  },
  {
   "cell_type": "code",
   "execution_count": 14,
   "id": "27ac9de7",
   "metadata": {},
   "outputs": [],
   "source": [
    "items_dict=trainset._raw2inner_id_items"
   ]
  },
  {
   "cell_type": "code",
   "execution_count": 15,
   "id": "f3074465",
   "metadata": {},
   "outputs": [
    {
     "data": {
      "text/plain": [
       "9320"
      ]
     },
     "execution_count": 15,
     "metadata": {},
     "output_type": "execute_result"
    }
   ],
   "source": [
    "items_dict[302]"
   ]
  },
  {
   "cell_type": "code",
   "execution_count": 16,
   "id": "d3e5b4ad",
   "metadata": {},
   "outputs": [
    {
     "data": {
      "text/plain": [
       "(10000, 100)"
      ]
     },
     "execution_count": 16,
     "metadata": {},
     "output_type": "execute_result"
    }
   ],
   "source": [
    "algo.qi.shape"
   ]
  },
  {
   "cell_type": "code",
   "execution_count": 17,
   "id": "47acc367",
   "metadata": {},
   "outputs": [
    {
     "data": {
      "text/plain": [
       "(52809, 100)"
      ]
     },
     "execution_count": 17,
     "metadata": {},
     "output_type": "execute_result"
    }
   ],
   "source": [
    "algo.pu.shape"
   ]
  },
  {
   "cell_type": "code",
   "execution_count": 18,
   "id": "a85c3d47",
   "metadata": {},
   "outputs": [
    {
     "data": {
      "text/plain": [
       "(100, 52809)"
      ]
     },
     "execution_count": 18,
     "metadata": {},
     "output_type": "execute_result"
    }
   ],
   "source": [
    "algo.pu.transpose().shape"
   ]
  },
  {
   "cell_type": "code",
   "execution_count": 19,
   "id": "2c0d6029",
   "metadata": {},
   "outputs": [],
   "source": [
    "mat=np.dot(algo.qi,algo.pu.transpose())"
   ]
  },
  {
   "cell_type": "code",
   "execution_count": 20,
   "id": "e39ac4bc",
   "metadata": {},
   "outputs": [
    {
     "data": {
      "text/plain": [
       "(10000, 52809)"
      ]
     },
     "execution_count": 20,
     "metadata": {},
     "output_type": "execute_result"
    }
   ],
   "source": [
    "mat.shape"
   ]
  },
  {
   "cell_type": "code",
   "execution_count": 21,
   "id": "2c5ebcab",
   "metadata": {},
   "outputs": [
    {
     "data": {
      "text/plain": [
       "array([[ 0.0328606 , -0.23649541,  0.04438997, ..., -0.14454349,\n",
       "        -0.04085603,  0.08716504],\n",
       "       [ 0.01984894, -0.20768016,  0.05231285, ...,  0.15121978,\n",
       "         0.09041861, -0.10933611],\n",
       "       [-0.08043432, -0.19624973,  0.13127568, ..., -0.2303272 ,\n",
       "        -0.16858116,  0.0315671 ],\n",
       "       ...,\n",
       "       [ 0.13952133, -0.09061464, -0.06945457, ...,  0.18079002,\n",
       "         0.179256  , -0.09393144],\n",
       "       [-0.16740491,  0.16453608, -0.14065656, ...,  0.06407489,\n",
       "         0.02844492,  0.02568933],\n",
       "       [-0.22935499, -0.01324554, -0.00634005, ..., -0.03016311,\n",
       "        -0.33775762,  0.25266811]])"
      ]
     },
     "execution_count": 21,
     "metadata": {},
     "output_type": "execute_result"
    }
   ],
   "source": [
    "mat"
   ]
  },
  {
   "cell_type": "code",
   "execution_count": 22,
   "id": "eaf45e0a",
   "metadata": {},
   "outputs": [
    {
     "data": {
      "text/plain": [
       "3.8572449094615497"
      ]
     },
     "execution_count": 22,
     "metadata": {},
     "output_type": "execute_result"
    }
   ],
   "source": [
    "algo.trainset.global_mean"
   ]
  },
  {
   "cell_type": "code",
   "execution_count": 23,
   "id": "8d49b74e",
   "metadata": {},
   "outputs": [
    {
     "data": {
      "text/plain": [
       "array([[3.89010551, 3.6207495 , 3.90163488, ..., 3.71270142, 3.81638888,\n",
       "        3.94440995],\n",
       "       [3.87709385, 3.64956475, 3.90955776, ..., 4.00846469, 3.94766352,\n",
       "        3.7479088 ],\n",
       "       [3.77681058, 3.66099518, 3.98852059, ..., 3.62691771, 3.68866375,\n",
       "        3.88881201],\n",
       "       ...,\n",
       "       [3.99676624, 3.76663027, 3.78779034, ..., 4.03803493, 4.03650091,\n",
       "        3.76331347],\n",
       "       [3.68984   , 4.02178099, 3.71658835, ..., 3.9213198 , 3.88568983,\n",
       "        3.88293424],\n",
       "       [3.62788992, 3.84399936, 3.85090486, ..., 3.8270818 , 3.51948729,\n",
       "        4.10991302]])"
      ]
     },
     "execution_count": 23,
     "metadata": {},
     "output_type": "execute_result"
    }
   ],
   "source": [
    "mat+algo.trainset.global_mean"
   ]
  },
  {
   "cell_type": "code",
   "execution_count": null,
   "id": "38be0b77",
   "metadata": {},
   "outputs": [],
   "source": []
  },
  {
   "cell_type": "code",
   "execution_count": 24,
   "id": "1f387173",
   "metadata": {},
   "outputs": [
    {
     "data": {
      "text/plain": [
       "(10000, 52809)"
      ]
     },
     "execution_count": 24,
     "metadata": {},
     "output_type": "execute_result"
    }
   ],
   "source": [
    "shp=mat.shape\n",
    "shp\n"
   ]
  },
  {
   "cell_type": "code",
   "execution_count": 25,
   "id": "fff11540",
   "metadata": {
    "scrolled": true
   },
   "outputs": [
    {
     "data": {
      "text/plain": [
       "array([-0.18495313,  0.07077918, -0.1861568 , ...,  0.33084711,\n",
       "       -0.04644233, -0.18104825])"
      ]
     },
     "execution_count": 25,
     "metadata": {},
     "output_type": "execute_result"
    }
   ],
   "source": [
    "algo.bi"
   ]
  },
  {
   "cell_type": "code",
   "execution_count": 26,
   "id": "59c0948c",
   "metadata": {},
   "outputs": [
    {
     "data": {
      "text/plain": [
       "(10000,)"
      ]
     },
     "execution_count": 26,
     "metadata": {},
     "output_type": "execute_result"
    }
   ],
   "source": [
    "algo.bi.shape"
   ]
  },
  {
   "cell_type": "code",
   "execution_count": 63,
   "id": "adbcffdb",
   "metadata": {},
   "outputs": [],
   "source": [
    "new=np.repeat(algo.bi,52777)"
   ]
  },
  {
   "cell_type": "code",
   "execution_count": 70,
   "id": "e045e9fb",
   "metadata": {},
   "outputs": [
    {
     "data": {
      "text/plain": [
       "(10000, 52777)"
      ]
     },
     "execution_count": 70,
     "metadata": {},
     "output_type": "execute_result"
    }
   ],
   "source": [
    "new.shape"
   ]
  },
  {
   "cell_type": "code",
   "execution_count": 74,
   "id": "a6f0fe0d",
   "metadata": {},
   "outputs": [
    {
     "data": {
      "text/plain": [
       "(10000, 52777)"
      ]
     },
     "execution_count": 74,
     "metadata": {},
     "output_type": "execute_result"
    }
   ],
   "source": [
    "new.shape"
   ]
  },
  {
   "cell_type": "code",
   "execution_count": 57,
   "id": "639d0107",
   "metadata": {},
   "outputs": [],
   "source": [
    "newmat=np.resize(new,(10000,2))"
   ]
  },
  {
   "cell_type": "code",
   "execution_count": 58,
   "id": "be83da0e",
   "metadata": {},
   "outputs": [
    {
     "data": {
      "text/plain": [
       "array([[ 0.14186459,  0.14186459],\n",
       "       [ 0.08699358,  0.08699358],\n",
       "       [ 0.19225928,  0.19225928],\n",
       "       ...,\n",
       "       [ 0.17713515,  0.17713515],\n",
       "       [ 0.20022207,  0.20022207],\n",
       "       [-0.3243696 , -0.3243696 ]])"
      ]
     },
     "execution_count": 58,
     "metadata": {},
     "output_type": "execute_result"
    }
   ],
   "source": [
    "newmat"
   ]
  },
  {
   "cell_type": "code",
   "execution_count": null,
   "id": "c083e3e6",
   "metadata": {},
   "outputs": [],
   "source": []
  },
  {
   "cell_type": "code",
   "execution_count": null,
   "id": "0c80ec02",
   "metadata": {},
   "outputs": [],
   "source": []
  },
  {
   "cell_type": "code",
   "execution_count": null,
   "id": "2389c091",
   "metadata": {},
   "outputs": [],
   "source": []
  },
  {
   "cell_type": "code",
   "execution_count": 37,
   "id": "d81ebaf1",
   "metadata": {},
   "outputs": [
    {
     "data": {
      "text/plain": [
       "(10000, 100)"
      ]
     },
     "execution_count": 37,
     "metadata": {},
     "output_type": "execute_result"
    }
   ],
   "source": [
    "algo.qi.shape"
   ]
  },
  {
   "cell_type": "code",
   "execution_count": null,
   "id": "0f058c6b",
   "metadata": {},
   "outputs": [],
   "source": []
  },
  {
   "cell_type": "code",
   "execution_count": null,
   "id": "887aebbd",
   "metadata": {},
   "outputs": [],
   "source": []
  },
  {
   "cell_type": "code",
   "execution_count": 26,
   "id": "1014d56b",
   "metadata": {},
   "outputs": [
    {
     "data": {
      "text/plain": [
       "4.33167687631725"
      ]
     },
     "execution_count": 26,
     "metadata": {},
     "output_type": "execute_result"
    }
   ],
   "source": [
    "algo.trainset.global_mean + algo.bi[6996] + algo.bu[44438] + np.dot(algo.qi[6996], algo.pu[44438]) "
   ]
  },
  {
   "cell_type": "code",
   "execution_count": 128,
   "id": "116d939b",
   "metadata": {},
   "outputs": [
    {
     "data": {
      "text/plain": [
       "3.8565685703304418"
      ]
     },
     "execution_count": 128,
     "metadata": {},
     "output_type": "execute_result"
    }
   ],
   "source": [
    "algo.trainset.global_mean"
   ]
  },
  {
   "cell_type": "code",
   "execution_count": 131,
   "id": "6f906f05",
   "metadata": {},
   "outputs": [
    {
     "data": {
      "text/plain": [
       "52828"
      ]
     },
     "execution_count": 131,
     "metadata": {},
     "output_type": "execute_result"
    }
   ],
   "source": [
    "len(users_dict)"
   ]
  },
  {
   "cell_type": "code",
   "execution_count": 139,
   "id": "9977dcec",
   "metadata": {},
   "outputs": [
    {
     "data": {
      "text/plain": [
       "53424"
      ]
     },
     "execution_count": 139,
     "metadata": {},
     "output_type": "execute_result"
    }
   ],
   "source": [
    "type(data)\n",
    "ratings_data.shape\n",
    "ratings_data['user_id'].nunique()\n"
   ]
  },
  {
   "cell_type": "code",
   "execution_count": 140,
   "id": "4118978a",
   "metadata": {},
   "outputs": [
    {
     "data": {
      "text/plain": [
       "596"
      ]
     },
     "execution_count": 140,
     "metadata": {},
     "output_type": "execute_result"
    }
   ],
   "source": [
    "ratings_data['user_id'].nunique()-len(users_dict)"
   ]
  },
  {
   "cell_type": "code",
   "execution_count": null,
   "id": "69094b24",
   "metadata": {},
   "outputs": [],
   "source": []
  },
  {
   "cell_type": "code",
   "execution_count": null,
   "id": "3c80a30e",
   "metadata": {},
   "outputs": [],
   "source": []
  },
  {
   "cell_type": "code",
   "execution_count": null,
   "id": "b31954fc",
   "metadata": {},
   "outputs": [],
   "source": []
  },
  {
   "cell_type": "code",
   "execution_count": null,
   "id": "66518d46",
   "metadata": {},
   "outputs": [],
   "source": []
  }
 ],
 "metadata": {
  "kernelspec": {
   "display_name": "Python 3 (ipykernel)",
   "language": "python",
   "name": "python3"
  },
  "language_info": {
   "codemirror_mode": {
    "name": "ipython",
    "version": 3
   },
   "file_extension": ".py",
   "mimetype": "text/x-python",
   "name": "python",
   "nbconvert_exporter": "python",
   "pygments_lexer": "ipython3",
   "version": "3.9.7"
  }
 },
 "nbformat": 4,
 "nbformat_minor": 5
}
